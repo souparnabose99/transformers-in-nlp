{
  "nbformat": 4,
  "nbformat_minor": 0,
  "metadata": {
    "colab": {
      "provenance": []
    },
    "kernelspec": {
      "name": "python3",
      "display_name": "Python 3"
    },
    "language_info": {
      "name": "python"
    }
  },
  "cells": [
    {
      "cell_type": "code",
      "execution_count": null,
      "metadata": {
        "colab": {
          "base_uri": "https://localhost:8080/",
          "height": 53
        },
        "id": "bJ4pj_pcyubY",
        "outputId": "fbab99ff-3ed7-48d6-e2ae-87f1c6a8cbba"
      },
      "outputs": [
        {
          "output_type": "execute_result",
          "data": {
            "text/plain": [
              "'\\nElon Musk\\n@elonmusk\\nTwitter is rolling out View Count, so you can see how many times a tweet has been seen! This is normal for video.\\n\\nShows how much more alive Twitter is than it may seem, as over 90% of Twitter users read, but don’t tweet, reply or like, as those are public actions.'"
            ],
            "application/vnd.google.colaboratory.intrinsic+json": {
              "type": "string"
            }
          },
          "metadata": {},
          "execution_count": 1
        }
      ],
      "source": [
        "sample_tweet = \"\"\"\n",
        "Elon Musk\n",
        "@elonmusk\n",
        "Twitter is rolling out View Count, so you can see how many times a tweet has been seen! This is normal for video.\n",
        "\n",
        "Shows how much more alive Twitter is than it may seem, as over 90% of Twitter users read, but don’t tweet, reply or like, as those are public actions.\"\"\"\n",
        "\n",
        "sample_tweet"
      ]
    },
    {
      "cell_type": "code",
      "source": [
        "import nltk\n",
        "nltk.download(\"stopwords\")\n",
        "from nltk.corpus import stopwords"
      ],
      "metadata": {
        "colab": {
          "base_uri": "https://localhost:8080/"
        },
        "id": "cAVfoyMczTiY",
        "outputId": "f123cce5-dd76-446a-9677-6d4bc8e3cfae"
      },
      "execution_count": null,
      "outputs": [
        {
          "output_type": "stream",
          "name": "stderr",
          "text": [
            "[nltk_data] Downloading package stopwords to /root/nltk_data...\n",
            "[nltk_data]   Unzipping corpora/stopwords.zip.\n"
          ]
        }
      ]
    },
    {
      "cell_type": "code",
      "source": [
        "stop_words = stopwords.words(\"english\")\n",
        "stop_words[:15]"
      ],
      "metadata": {
        "colab": {
          "base_uri": "https://localhost:8080/"
        },
        "id": "cT7-fY98zdsb",
        "outputId": "2974b630-1529-42ab-e688-6e949a3efedc"
      },
      "execution_count": null,
      "outputs": [
        {
          "output_type": "execute_result",
          "data": {
            "text/plain": [
              "['i',\n",
              " 'me',\n",
              " 'my',\n",
              " 'myself',\n",
              " 'we',\n",
              " 'our',\n",
              " 'ours',\n",
              " 'ourselves',\n",
              " 'you',\n",
              " \"you're\",\n",
              " \"you've\",\n",
              " \"you'll\",\n",
              " \"you'd\",\n",
              " 'your',\n",
              " 'yours']"
            ]
          },
          "metadata": {},
          "execution_count": 5
        }
      ]
    },
    {
      "cell_type": "code",
      "source": [
        "stop_words = set(stop_words)"
      ],
      "metadata": {
        "id": "xmW0It8R26q1"
      },
      "execution_count": null,
      "outputs": []
    },
    {
      "cell_type": "code",
      "source": [
        "sample_tweet.lower()"
      ],
      "metadata": {
        "colab": {
          "base_uri": "https://localhost:8080/",
          "height": 53
        },
        "id": "2CCB-dIO2LSK",
        "outputId": "4ee41aef-61a1-4cb4-9467-dee5863c5f69"
      },
      "execution_count": null,
      "outputs": [
        {
          "output_type": "execute_result",
          "data": {
            "text/plain": [
              "'\\nelon musk\\n@elonmusk\\ntwitter is rolling out view count, so you can see how many times a tweet has been seen! this is normal for video.\\n\\nshows how much more alive twitter is than it may seem, as over 90% of twitter users read, but don’t tweet, reply or like, as those are public actions.'"
            ],
            "application/vnd.google.colaboratory.intrinsic+json": {
              "type": "string"
            }
          },
          "metadata": {},
          "execution_count": 6
        }
      ]
    },
    {
      "cell_type": "code",
      "source": [
        "sample_tweet = sample_tweet.lower().split()"
      ],
      "metadata": {
        "id": "vbq4v1HU2vKU"
      },
      "execution_count": null,
      "outputs": []
    },
    {
      "cell_type": "code",
      "source": [
        "sample_tweet_no_stopwords = [word for word in sample_tweet if word not in stop_words]\n",
        "final_tweet = (\" \").join(sample_tweet_no_stopwords)\n",
        "final_tweet"
      ],
      "metadata": {
        "colab": {
          "base_uri": "https://localhost:8080/",
          "height": 53
        },
        "id": "AoLF7qDX2yi1",
        "outputId": "a12132a7-ae67-4c90-8771-9d0af7c8bc84"
      },
      "execution_count": null,
      "outputs": [
        {
          "output_type": "execute_result",
          "data": {
            "text/plain": [
              "'elon musk @elonmusk twitter rolling view count, see many times tweet seen! normal video. shows much alive twitter may seem, 90% twitter users read, don’t tweet, reply like, public actions.'"
            ],
            "application/vnd.google.colaboratory.intrinsic+json": {
              "type": "string"
            }
          },
          "metadata": {},
          "execution_count": 12
        }
      ]
    },
    {
      "cell_type": "code",
      "source": [],
      "metadata": {
        "id": "jv-nv0e23ZA9"
      },
      "execution_count": null,
      "outputs": []
    }
  ]
}